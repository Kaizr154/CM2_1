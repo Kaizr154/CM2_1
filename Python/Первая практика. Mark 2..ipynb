{
 "cells": [
  {
   "cell_type": "markdown",
   "metadata": {},
   "source": [
    "# Первое задание. Построение кубического сплайна.\n",
    "## Пацакула Никита. Группа 16132.\n",
    "\n",
    "## Шаг 1.\n",
    "### 1.1) Импортируем математические библиотеки:      \n",
    " - Модуль [**math**](https://docs.python.org/2/library/math.html) ответственен за математические функции.  \n",
    " - Модуль [**numpy**](https://docs.scipy.org/doc/numpy-dev/user/quickstart.html) ответственен за типи данных(матрицы), которые мы дальше будем использовать.  \n",
    " - Модуль [**matplotlib.pyplot**](https://matplotlib.org/api/pyplot_api) ответственен за графический вывод.\n",
    " \n",
    "### 1.2) Включаем вывод matplotlib командой:\n",
    "```python\n",
    "%matplotlib inline\n",
    "```"
   ]
  },
  {
   "cell_type": "code",
   "execution_count": 1,
   "metadata": {},
   "outputs": [],
   "source": [
    "import math\n",
    "import numpy\n",
    "import matplotlib.pyplot as plt\n",
    "\n",
    "%matplotlib inline"
   ]
  },
  {
   "cell_type": "markdown",
   "metadata": {},
   "source": [
    "## Шаг 2.  \n",
    "### 2.1) Реализуем функцию [метода прогонки](https://en.wikipedia.org/wiki/Tridiagonal_matrix_algorithm).\n",
    " - *A = np.array(init_A)* - инициализирует массив A, идентичный поступившему на вход функции(init_A).\n",
    " - *n = A.shape[0]* - инициализируем переменную n, равный размерности A, т.е. находим размерность A.\n",
    " - *return_val* = np.zeros(shape=(n), dtype=float) - инициализируем массив решения заполненный нулями, размерностью равный входному A.\n",
    " - *for **i** in range(1,n)* - цикл, итератор которого будет целочисленно изменяться от 1 до n.\n",
    " - *for **i** in reversed(range(0, n - 1))* - цикл, итератор которого будет целочисленно изменяться от n-1 до 1."
   ]
  },
  {
   "cell_type": "code",
   "execution_count": 2,
   "metadata": {},
   "outputs": [],
   "source": [
    "def tridiagonal_matrix_algorythm(init_A, init_b):\n",
    "    A = numpy.array(init_A)\n",
    "    b = numpy.array(init_b)\n",
    "    n = A.shape[0]\n",
    "    # If dim(A) == 0 break func(t_m_a) and return 1\n",
    "    if n == 0: \n",
    "        return 1\n",
    "    # if dim(A) > 1\n",
    "    if n > 1:\n",
    "        # find the coefficient Q_1 as follows\n",
    "        A[0][1] = A[0][1] / A[0][0]\n",
    "    # find the coefficient Q_1 as follows\n",
    "    b[0] = b[0] / A[0][0]\n",
    "    for i in range(1, n - 1):\n",
    "        # find Q_i coefficient\n",
    "        A[i][i + 1] = A[i][i + 1] / (A[i][i] - A[i - 1][i] * A[i][i - 1])\n",
    "    for i in range(1, n):\n",
    "        # find common denominator((A[i][i] - A[i - 1][i] * A[i][i - 1])) and find P_i coefficient\n",
    "        b[i] = (b[i] - A[i][i - 1] * b[i - 1]) / (A[i][i] - A[i - 1][i] * A[i][i - 1])\n",
    "    return_val = numpy.zeros(shape=(n), dtype=float)\n",
    "    return_val[n - 1] = b[n - 1]\n",
    "    # method reversal\n",
    "    for i in reversed(range(0, n - 1)):\n",
    "        return_val[i] = b[i] - A[i][i + 1] * return_val[i + 1]\n",
    "    return return_val"
   ]
  },
  {
   "cell_type": "markdown",
   "metadata": {},
   "source": [
    "### 2.3) Реализуем тестовую функцию.\n",
    "Данная функция получает в качестве входного значения $x$, возвращая значение $x^\\frac{\\cos{\\frac{x}{2}}}{3} + \\frac{x}{8}$ со смещением на 500.0 для наглядности."
   ]
  },
  {
   "cell_type": "code",
   "execution_count": 3,
   "metadata": {},
   "outputs": [],
   "source": [
    "def real_function(x):\n",
    "    if x > 105. :\n",
    "        return 500. + x**(math.cos(x / 2) / 3) + x/8\n",
    "    else :\n",
    "        return 500"
   ]
  },
  {
   "cell_type": "markdown",
   "metadata": {},
   "source": [
    "## Шаг 3.\n",
    "### 3.1) Реализуем определение значений $x_i$ , $y_i$.\n",
    " - Зададим краевые значения ($x \\in [100 , 110]$ == $x \\in [A,B]$):\n",
    "```python\n",
    "boundary_condition_A = 100.\n",
    "boundary_condition_B = 110.\n",
    "```\n",
    " - Задаем количество узлов:\n",
    "```python\n",
    "N = 2\n",
    "```\n",
    " - Находим $x_i$ по формуле $x_i = A + \\frac{B - A}{(N - 1)}(i + \\cos(5i))$ и $y_i$ по формуле $y_i$ = real_function($x_i$) для $x \\in (A,B)$:\n",
    " ```python\n",
    "# len(x) equal dim(x) equal N\n",
    "n = len(x)\n",
    "for i in range(1, n - 1):\n",
    "    x[i] = AA + (BB - AA) / (N - 1) * (i + 0. * math.cos(5. * i))\n",
    "    y[i] = real_fun(x[i])\n",
    "```\n",
    " - Определяем $x_0, x_n$ и $y_0, y_n$ для краевых значений A и B:\n",
    " ```python\n",
    "x[0] = boundary_condition_A\n",
    "x[N - 1] = boundary_condition_B\n",
    "y[0] = real_fun(x[0])\n",
    "y[N - 1] = real_fun(x[N - 1])\n",
    " ```"
   ]
  },
  {
   "cell_type": "code",
   "execution_count": 4,
   "metadata": {},
   "outputs": [
    {
     "name": "stdout",
     "output_type": "stream",
     "text": [
      "[100.         100.52631579 101.05263158 101.57894737 102.10526316\n",
      " 102.63157895 103.15789474 103.68421053 104.21052632 104.73684211\n",
      " 105.26315789 105.78947368 106.31578947 106.84210526 107.36842105\n",
      " 107.89473684 108.42105263 108.94736842 109.47368421 110.        ]\n",
      "[500.         500.         500.         500.         500.\n",
      " 500.         500.         500.         500.         500.\n",
      " 513.48799699 513.4818101  513.51095205 513.56603791 513.64434392\n",
      " 513.74918032 513.89074041 514.08825343 514.37244645 514.78527676]\n"
     ]
    }
   ],
   "source": [
    "boundary_condition_A = 100.\n",
    "boundary_condition_B = 110.\n",
    "N = 20\n",
    "x = numpy.zeros(shape=(N), dtype=numpy.float64(0.))\n",
    "y = numpy.zeros(shape=(x.shape[0]), dtype=numpy.float64(0.))\n",
    "# Achtung!\n",
    "Left = 10.\n",
    "Right = 10.\n",
    "n = len(x)\n",
    "for i in range(1, n - 1):\n",
    "    x[i] = boundary_condition_A + (boundary_condition_B - boundary_condition_A) / (N - 1) * (i + 0. * math.cos(5. * i))\n",
    "    y[i] = real_function(x[i])\n",
    "x[0] = boundary_condition_A\n",
    "x[N - 1] = boundary_condition_B\n",
    "y[0] = real_function(x[0])\n",
    "y[N - 1] = real_function(x[N - 1])\n",
    "print(x)\n",
    "print(y)"
   ]
  },
  {
   "cell_type": "markdown",
   "metadata": {
    "collapsed": true
   },
   "source": [
    "## Шаг 4.\n",
    "### 4.1) Определим трехдиагональную матрицу, требуемую для метода прогонки.\n",
    " - Определим матрицы A, b, h, gamma типа [float64](https://docs.scipy.org/doc/numpy-1.13.0/user/basics.types.html).\n",
    " - Определим значения $h_1$ и $h_{n-1}$:\n",
    " ```python\n",
    "h[1] = x[1] - x[0]\n",
    "h[n - 1] = x[n - 1] - x[n - 2]\n",
    "```\n",
    " - Определим $h_{i + 1}$ как $h_{i + 1} = x_{i+1} - x_i$.\n",
    " - Определим $b_i$ как $6 * (\\frac{y_{i + 1} - y_i}{h_{i + 1}} - \\frac{y_i - y_{i-1}}{h_i})$\n",
    " - Определим элементы матрицы А:\n",
    " ```python\n",
    "    A[i - 1][i - 1] = 2 * (h[i + 1] + h[i])\n",
    "    A[i][i - 1] = h[i + 1]\n",
    "    A[i - 1][i] = A[i][i - 1]\n",
    " ```\n",
    " - В случае, когда количество узлов более трех, добавляем элементы матрицы:\n",
    " ```python\n",
    "    A[n - 3][n - 3] = 2 * (h[n - 1] + h[n - 2])\n",
    "    b[n - 3] = 6 * ((y[n - 1] - y[n - 2]) / h[n - 1] - (y[n - 2] - y[n - 3]) / h[n - 2])\n",
    " ```"
   ]
  },
  {
   "cell_type": "code",
   "execution_count": 5,
   "metadata": {},
   "outputs": [],
   "source": [
    "# define 'A' matrix (n-2)x(n-2) with float64-type coefficient \n",
    "A = numpy.zeros(shape=(n - 2, n - 2), dtype=numpy.float64(0.))\n",
    "# define 'b' array (n-2) with float64-type coefficient \n",
    "b = numpy.zeros(shape=(n - 2), dtype=numpy.float64(0.))\n",
    "# define 'h' array (n) with float64-type coefficient \n",
    "h = numpy.zeros(shape=(n), dtype=numpy.float64(0.))\n",
    "# define 'gamma' array (n) with float64-type coefficient \n",
    "gamma = numpy.zeros(shape=(n), dtype=numpy.float64(0.))\n",
    "h[1] = x[1] - x[0]\n",
    "h[n - 1] = x[n - 1] - x[n - 2]\n",
    "for i in range(1, n - 2):\n",
    "    h[i + 1] = x[i + 1] - x[i]\n",
    "    b[i - 1] = 6 * ((y[i + 1] - y[i]) / h[i + 1] - (y[i] - y[i - 1]) / h[i])\n",
    "    A[i - 1][i - 1] = 2 * (h[i + 1] + h[i])\n",
    "    A[i][i - 1] = h[i + 1]\n",
    "    A[i - 1][i] = A[i][i - 1]\n",
    "if n >= 3:\n",
    "    A[n - 3][n - 3] = 2 * (h[n - 1] + h[n - 2])\n",
    "    b[n - 3] = 6 * ((y[n - 1] - y[n - 2]) / h[n - 1] - (y[n - 2] - y[n - 3]) / h[n - 2])"
   ]
  },
  {
   "cell_type": "markdown",
   "metadata": {},
   "source": [
    "### 4.2) Найдем значения $\\gamma$."
   ]
  },
  {
   "cell_type": "code",
   "execution_count": 6,
   "metadata": {},
   "outputs": [],
   "source": [
    "gamma[0] = Left\n",
    "gamma[n - 1] = Right\n",
    "if b.shape[0] != 0:\n",
    "    b[0] = b[0] - h[1] * Left\n",
    "    b[n - 3] = b[n - 3] - h[n - 1]  * Right\n",
    "tmp = tridiagonal_matrix_algorythm(A, b)\n",
    "for i in range(1, n - 1):\n",
    "    gamma[i] = tmp[i - 1]"
   ]
  },
  {
   "cell_type": "markdown",
   "metadata": {},
   "source": [
    "## Шаг 5.\n",
    "### 5.1) Определим значения функции."
   ]
  },
  {
   "cell_type": "code",
   "execution_count": 7,
   "metadata": {},
   "outputs": [],
   "source": [
    "def fun(inputed_x):\n",
    "    if inputed_x <= x[0]:\n",
    "        i = 0\n",
    "        return y[i] * (x[i + 1] - inputed_x) / h[i + 1] + y[i + 1] * (inputed_x - x[i]) / h[i+1] + gamma[i] * ((x[i + 1] - inputed_x) ** 3 - (h[i + 1] ** 2) * (x[i + 1] - inputed_x)) / (6 * h[i + 1]) + gamma[i + 1] * ((inputed_x - x[i]) ** 3 - (h[i + 1] ** 2) * (inputed_x - x[i])) / (6 * h[i + 1])\n",
    "    for i in range(0, n - 1):\n",
    "        if (inputed_x <= x[i + 1] and inputed_x >= x[i]):\n",
    "            return y[i] * (x[i + 1] - inputed_x) / h[i + 1] + y[i + 1] * (inputed_x - x[i]) / h[i+1] + gamma[i] * ((x[i + 1] - inputed_x) ** 3 - (h[i + 1] ** 2) * (x[i + 1] - inputed_x)) / (6 * h[i + 1]) + gamma[i + 1] * ((inputed_x - x[i]) ** 3 - (h[i + 1] ** 2) * (inputed_x - x[i])) / (6 * h[i + 1])"
   ]
  },
  {
   "cell_type": "markdown",
   "metadata": {},
   "source": [
    "### 5.2) Определим функцию графического вывода."
   ]
  },
  {
   "cell_type": "code",
   "execution_count": 8,
   "metadata": {},
   "outputs": [],
   "source": [
    "def get_graph(inputed_x, inline_function):\n",
    "    drawner = numpy.array(inputed_x)\n",
    "    for i in range(0, drawner.shape[0]):\n",
    "        drawner[i] = inline_function(drawx[i])\n",
    "    return drawner"
   ]
  },
  {
   "cell_type": "code",
   "execution_count": 9,
   "metadata": {},
   "outputs": [
    {
     "data": {
      "image/png": "[encoded data removed]",
      "text/plain": [
       "<matplotlib.figure.Figure at 0x257ff343b38>"
      ]
     },
     "metadata": {},
     "output_type": "display_data"
    }
   ],
   "source": [
    "drawx = numpy.arange(x[0], x[n - 1], 0.001)\n",
    "drawner = get_graph(drawx, fun)\n",
    "plt.figure(num=None, figsize=(10, 10), dpi=100, facecolor='w', edgecolor='k')\n",
    "curve1, = plt.plot(drawx, drawner, 'b-', linewidth=1.)\n",
    "drawner = get_graph(drawx, real_function)\n",
    "curve2, = plt.plot(drawx, drawner, 'r-', linewidth=1.)\n",
    "curve3, = plt.plot(x, y, 'go')\n",
    "plt.show()"
   ]
  },
  {
   "cell_type": "code",
   "execution_count": null,
   "metadata": {},
   "outputs": [],
   "source": []
  }
 ],
 "metadata": {
  "kernelspec": {
   "display_name": "Python 3",
   "language": "python",
   "name": "python3"
  },
  "language_info": {
   "codemirror_mode": {
    "name": "ipython",
    "version": 3
   },
   "file_extension": ".py",
   "mimetype": "text/x-python",
   "name": "python",
   "nbconvert_exporter": "python",
   "pygments_lexer": "ipython3",
   "version": "3.6.4"
  }
 },
 "nbformat": 4,
 "nbformat_minor": 1
}
